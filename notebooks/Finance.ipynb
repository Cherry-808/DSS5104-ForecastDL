{
 "cells": [
  {
   "cell_type": "markdown",
   "id": "916053a2",
   "metadata": {},
   "source": [
    "# Model Comparison With Finance Data\n",
    "This notebook demonstrates how to run the prediction models on financial data"
   ]
  },
  {
   "cell_type": "code",
   "execution_count": 6,
   "id": "5c81b892",
   "metadata": {},
   "outputs": [],
   "source": [
    "import sys\n",
    "import os\n",
    "\n",
    "# Add the project root (one level up from 'notebooks') to the Python path\n",
    "sys.path.append(os.path.abspath(os.path.join(os.getcwd(), '..')))"
   ]
  },
  {
   "cell_type": "code",
   "execution_count": 12,
   "id": "521a7d42",
   "metadata": {},
   "outputs": [],
   "source": [
    "# Imports from our src/ modules\n",
    "import pandas as pd\n",
    "from src.data.load_fin_data import load_finance_data, load_fred_data\n",
    "from src.data.preprocess_fin_data import add_time_features, calculate_technical_indicators, flatten_cols\n",
    "from src.data.split_sequences import prepare_train_val_test\n",
    "from src.models.base_ARIMA import build_arima_model\n",
    "from src.models.DL_LSTM import build_lstm_model\n",
    "# from src.models.DL_TCN import build_tcn_model\n",
    "# from src.models.DL_Transformer import build_transformer_model\n",
    "from src.evaluation.evaluate import evaluate_model\n",
    "from src.data.scaler_utils import get_scaler\n",
    "from sklearn.linear_model import LinearRegression\n",
    "from sklearn.model_selection import train_test_split\n",
    "import matplotlib.pyplot as plt\n"
   ]
  },
  {
   "cell_type": "code",
   "execution_count": 13,
   "id": "e4f5757a",
   "metadata": {},
   "outputs": [],
   "source": [
    "# Setup\n",
    "FRED_API_KEY = '92300a5052e3ca2facec21726fc18b04'\n",
    "stocks = ['TSLA']\n",
    "pce_series = {'PCEPI': 'PCE_Price_Index', 'PCEPILFE': 'Core_PCE_Price_Index'}\n",
    "scaler = get_scaler()\n"
   ]
  },
  {
   "cell_type": "code",
   "execution_count": null,
   "id": "1f2d95b3",
   "metadata": {},
   "outputs": [],
   "source": [
    "# Load and preprocess data\n",
    "all_data = {}\n",
    "for ticker in stocks:\n",
    "    df = load_finance_data(ticker)\n",
    "    df = add_time_features(df, prefix=f'{ticker}_')\n",
    "    df = calculate_technical_indicators(df, ticker)\n",
    "    df[f'{ticker}_Close_Scaled'] = scaler.fit_transform(df[['Close']])\n",
    "    all_data[ticker] = df\n",
    "\n",
    "for series_id, name in pce_series.items():\n",
    "    df = load_fred_data(series_id, name, FRED_API_KEY)\n",
    "    all_data[name] = df\n"
   ]
  },
  {
   "cell_type": "code",
   "execution_count": null,
   "id": "5f44f35a",
   "metadata": {},
   "outputs": [],
   "source": [
    "# Combine datasets\n",
    "combined_data = None\n",
    "first = True\n",
    "for name, df in all_data.items():\n",
    "    df = flatten_cols(df)\n",
    "    if first:\n",
    "        combined_data = df\n",
    "        first = False\n",
    "    else:\n",
    "        combined_data = pd.merge(combined_data, df, left_index=True, right_index=True, how='outer')\n",
    "\n",
    "combined_data.reset_index(inplace=True)\n",
    "combined_data.rename(columns={combined_data.columns[0]: 'Date'}, inplace=True)\n",
    "combined_data['Date'] = pd.to_datetime(combined_data['Date'])\n",
    "combined_data.set_index('Date', inplace=True)\n",
    "combined_data.dropna(inplace=True)\n"
   ]
  },
  {
   "cell_type": "code",
   "execution_count": null,
   "id": "ed71537d",
   "metadata": {},
   "outputs": [],
   "source": [
    "# Train-test split\n",
    "SEQ_LENGTH = 30\n",
    "X_train, X_val, X_test, y_train, y_val, y_test = prepare_train_val_test(combined_data.reset_index(), SEQ_LENGTH)\n"
   ]
  },
  {
   "cell_type": "code",
   "execution_count": null,
   "id": "8117f352",
   "metadata": {},
   "outputs": [],
   "source": [
    "# Train and evaluate models\n",
    "models = {\n",
    "    \"LSTM\": build_lstm_model(SEQ_LENGTH),\n",
    "    \"TCN\": build_tcn_model(SEQ_LENGTH),\n",
    "    \"Transformer\": build_transformer_model(SEQ_LENGTH)\n",
    "}\n",
    "\n",
    "results = {}\n",
    "mae_scores = {}\n",
    "\n",
    "for name, model in models.items():\n",
    "    model.fit(X_train, y_train, epochs=5, batch_size=32, validation_data=(X_val, y_val), verbose=0)\n",
    "    mae, y_test_inv, y_pred_inv = evaluate_model(model, X_test, y_test, scaler)\n",
    "    results[name] = (y_test_inv, y_pred_inv)\n",
    "    mae_scores[name] = mae\n",
    "    print(f\"{name} MAE: {mae:.4f}\")\n"
   ]
  },
  {
   "cell_type": "code",
   "execution_count": null,
   "id": "48fefd31",
   "metadata": {},
   "outputs": [],
   "source": [
    "# Linear regression as baseline\n",
    "from src.data.split_sequences import create_sequences\n",
    "close_col = [col for col in combined_data.columns if col.lower().endswith('close_scaled')][0]\n",
    "close_prices = combined_data[close_col].values\n",
    "X_lr_all, y_lr_all = create_sequences(close_prices, SEQ_LENGTH)\n",
    "X_lr = X_lr_all.reshape((X_lr_all.shape[0], X_lr_all.shape[1]))\n",
    "X_train_lr, X_test_lr, y_train_lr, y_test_lr = train_test_split(X_lr, y_lr_all, test_size=0.2, shuffle=False)\n",
    "lr_model = LinearRegression().fit(X_train_lr, y_train_lr)\n",
    "mae, y_test_inv, y_pred_inv = evaluate_model(lr_model, X_test_lr, y_test_lr, scaler, is_linear=True)\n",
    "results[\"LinearRegression\"] = (y_test_inv, y_pred_inv)\n",
    "mae_scores[\"LinearRegression\"] = mae\n",
    "print(f\"LinearRegression MAE: {mae:.4f}\")\n"
   ]
  },
  {
   "cell_type": "code",
   "execution_count": null,
   "id": "974fcf0e",
   "metadata": {},
   "outputs": [],
   "source": [
    "# Plot results\n",
    "plt.figure(figsize=(10, 6))\n",
    "plt.bar(mae_scores.keys(), mae_scores.values())\n",
    "plt.title(\"Model Comparison - MAE (Unscaled Prices)\")\n",
    "plt.ylabel(\"Mean Absolute Error (USD)\")\n",
    "plt.xlabel(\"Model\")\n",
    "plt.xticks(rotation=45)\n",
    "plt.tight_layout()\n",
    "plt.show()\n"
   ]
  }
 ],
 "metadata": {
  "kernelspec": {
   "display_name": "Python 3",
   "language": "python",
   "name": "python3"
  },
  "language_info": {
   "codemirror_mode": {
    "name": "ipython",
    "version": 3
   },
   "file_extension": ".py",
   "mimetype": "text/x-python",
   "name": "python",
   "nbconvert_exporter": "python",
   "pygments_lexer": "ipython3",
   "version": "3.12.8"
  }
 },
 "nbformat": 4,
 "nbformat_minor": 5
}
